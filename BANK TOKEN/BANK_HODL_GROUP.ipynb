{
 "cells": [
  {
   "cell_type": "code",
   "execution_count": 1,
   "metadata": {},
   "outputs": [],
   "source": [
    "#Data manipulation\n",
    "import pandas as pd\n",
    "\n",
    "# Plotting\n",
    "import numpy as np\n",
    "from scipy.stats import norm\n",
    "import matplotlib.pyplot as plt\n",
    "import seaborn as sns"
   ]
  },
  {
   "cell_type": "code",
   "execution_count": 2,
   "metadata": {},
   "outputs": [],
   "source": [
    "# Load data\n",
    "df = pd.read_csv('Source/export-token-0x2d94aa3e47d9d5024503ca8491fce9a2fb4da198.csv', index_col=0)\n",
    "\n",
    "# Drop rows with no information\n",
    "df.dropna(how='all', inplace=True)"
   ]
  },
  {
   "cell_type": "code",
   "execution_count": 3,
   "metadata": {},
   "outputs": [
    {
     "data": {
      "text/html": [
       "<div>\n",
       "<style scoped>\n",
       "    .dataframe tbody tr th:only-of-type {\n",
       "        vertical-align: middle;\n",
       "    }\n",
       "\n",
       "    .dataframe tbody tr th {\n",
       "        vertical-align: top;\n",
       "    }\n",
       "\n",
       "    .dataframe thead th {\n",
       "        text-align: right;\n",
       "    }\n",
       "</style>\n",
       "<table border=\"1\" class=\"dataframe\">\n",
       "  <thead>\n",
       "    <tr style=\"text-align: right;\">\n",
       "      <th></th>\n",
       "      <th>Blockno</th>\n",
       "      <th>UnixTimestamp</th>\n",
       "      <th>DateTime</th>\n",
       "      <th>From</th>\n",
       "      <th>To</th>\n",
       "      <th>Quantity</th>\n",
       "      <th>Standard Deviation</th>\n",
       "    </tr>\n",
       "    <tr>\n",
       "      <th>Txhash</th>\n",
       "      <th></th>\n",
       "      <th></th>\n",
       "      <th></th>\n",
       "      <th></th>\n",
       "      <th></th>\n",
       "      <th></th>\n",
       "      <th></th>\n",
       "    </tr>\n",
       "  </thead>\n",
       "  <tbody>\n",
       "    <tr>\n",
       "      <th>0xb795556b86ad687da4c571c19d5c46f87cf668b200ef3b8f82f150c8448a4306</th>\n",
       "      <td>12369440.0</td>\n",
       "      <td>1.620154e+09</td>\n",
       "      <td>5/4/2021 18:48</td>\n",
       "      <td>0xea8e151e30bf690d446da31ee5d8b4811046c94b</td>\n",
       "      <td>0x59c1349bc6f28a427e78ddb6130ec669c2f39b48</td>\n",
       "      <td>35000.000000</td>\n",
       "      <td>19329.74930</td>\n",
       "    </tr>\n",
       "    <tr>\n",
       "      <th>0xb6668fac94abdbcc19d63a73d5aa296166133c6f587394cb535303740f271512</th>\n",
       "      <td>12369440.0</td>\n",
       "      <td>1.620154e+09</td>\n",
       "      <td>5/4/2021 18:48</td>\n",
       "      <td>0x59c1349bc6f28a427e78ddb6130ec669c2f39b48</td>\n",
       "      <td>0xf716ef29c5599d7fc982371d96714a0ead545691</td>\n",
       "      <td>0.000000</td>\n",
       "      <td>-45093.78499</td>\n",
       "    </tr>\n",
       "    <tr>\n",
       "      <th>0xc2360fba8a1217e33021380c8326a161cffc8c09317e45bd5b14b8094dba7325</th>\n",
       "      <td>12369440.0</td>\n",
       "      <td>1.620154e+09</td>\n",
       "      <td>5/4/2021 18:48</td>\n",
       "      <td>0x59c1349bc6f28a427e78ddb6130ec669c2f39b48</td>\n",
       "      <td>0x27f9adb26d532a41d97e00206114e429ad58c679</td>\n",
       "      <td>17473.710570</td>\n",
       "      <td>335.85734</td>\n",
       "    </tr>\n",
       "    <tr>\n",
       "      <th>0xc2360fba8a1217e33021380c8326a161cffc8c09317e45bd5b14b8094dba7325</th>\n",
       "      <td>12369440.0</td>\n",
       "      <td>1.620154e+09</td>\n",
       "      <td>5/4/2021 18:48</td>\n",
       "      <td>0x27f9adb26d532a41d97e00206114e429ad58c679</td>\n",
       "      <td>0x59c1349bc6f28a427e78ddb6130ec669c2f39b48</td>\n",
       "      <td>0.000000</td>\n",
       "      <td>18827.80001</td>\n",
       "    </tr>\n",
       "    <tr>\n",
       "      <th>0x6d09c1f696fd4e82f1fe0e0350379459a9da1005603a8f6ed2d1ea8091a65ca9</th>\n",
       "      <td>12369441.0</td>\n",
       "      <td>1.620154e+09</td>\n",
       "      <td>5/4/2021 18:48</td>\n",
       "      <td>0x170ae47ba9b913c33f038aa011b5b83935e86091</td>\n",
       "      <td>0x59c1349bc6f28a427e78ddb6130ec669c2f39b48</td>\n",
       "      <td>9878.437491</td>\n",
       "      <td>29450.96147</td>\n",
       "    </tr>\n",
       "  </tbody>\n",
       "</table>\n",
       "</div>"
      ],
      "text/plain": [
       "                                                       Blockno  UnixTimestamp  \\\n",
       "Txhash                                                                          \n",
       "0xb795556b86ad687da4c571c19d5c46f87cf668b200ef3...  12369440.0   1.620154e+09   \n",
       "0xb6668fac94abdbcc19d63a73d5aa296166133c6f58739...  12369440.0   1.620154e+09   \n",
       "0xc2360fba8a1217e33021380c8326a161cffc8c09317e4...  12369440.0   1.620154e+09   \n",
       "0xc2360fba8a1217e33021380c8326a161cffc8c09317e4...  12369440.0   1.620154e+09   \n",
       "0x6d09c1f696fd4e82f1fe0e0350379459a9da1005603a8...  12369441.0   1.620154e+09   \n",
       "\n",
       "                                                          DateTime  \\\n",
       "Txhash                                                               \n",
       "0xb795556b86ad687da4c571c19d5c46f87cf668b200ef3...  5/4/2021 18:48   \n",
       "0xb6668fac94abdbcc19d63a73d5aa296166133c6f58739...  5/4/2021 18:48   \n",
       "0xc2360fba8a1217e33021380c8326a161cffc8c09317e4...  5/4/2021 18:48   \n",
       "0xc2360fba8a1217e33021380c8326a161cffc8c09317e4...  5/4/2021 18:48   \n",
       "0x6d09c1f696fd4e82f1fe0e0350379459a9da1005603a8...  5/4/2021 18:48   \n",
       "\n",
       "                                                                                          From  \\\n",
       "Txhash                                                                                           \n",
       "0xb795556b86ad687da4c571c19d5c46f87cf668b200ef3...  0xea8e151e30bf690d446da31ee5d8b4811046c94b   \n",
       "0xb6668fac94abdbcc19d63a73d5aa296166133c6f58739...  0x59c1349bc6f28a427e78ddb6130ec669c2f39b48   \n",
       "0xc2360fba8a1217e33021380c8326a161cffc8c09317e4...  0x59c1349bc6f28a427e78ddb6130ec669c2f39b48   \n",
       "0xc2360fba8a1217e33021380c8326a161cffc8c09317e4...  0x27f9adb26d532a41d97e00206114e429ad58c679   \n",
       "0x6d09c1f696fd4e82f1fe0e0350379459a9da1005603a8...  0x170ae47ba9b913c33f038aa011b5b83935e86091   \n",
       "\n",
       "                                                                                            To  \\\n",
       "Txhash                                                                                           \n",
       "0xb795556b86ad687da4c571c19d5c46f87cf668b200ef3...  0x59c1349bc6f28a427e78ddb6130ec669c2f39b48   \n",
       "0xb6668fac94abdbcc19d63a73d5aa296166133c6f58739...  0xf716ef29c5599d7fc982371d96714a0ead545691   \n",
       "0xc2360fba8a1217e33021380c8326a161cffc8c09317e4...  0x27f9adb26d532a41d97e00206114e429ad58c679   \n",
       "0xc2360fba8a1217e33021380c8326a161cffc8c09317e4...  0x59c1349bc6f28a427e78ddb6130ec669c2f39b48   \n",
       "0x6d09c1f696fd4e82f1fe0e0350379459a9da1005603a8...  0x59c1349bc6f28a427e78ddb6130ec669c2f39b48   \n",
       "\n",
       "                                                        Quantity  \\\n",
       "Txhash                                                             \n",
       "0xb795556b86ad687da4c571c19d5c46f87cf668b200ef3...  35000.000000   \n",
       "0xb6668fac94abdbcc19d63a73d5aa296166133c6f58739...      0.000000   \n",
       "0xc2360fba8a1217e33021380c8326a161cffc8c09317e4...  17473.710570   \n",
       "0xc2360fba8a1217e33021380c8326a161cffc8c09317e4...      0.000000   \n",
       "0x6d09c1f696fd4e82f1fe0e0350379459a9da1005603a8...   9878.437491   \n",
       "\n",
       "                                                    Standard Deviation  \n",
       "Txhash                                                                  \n",
       "0xb795556b86ad687da4c571c19d5c46f87cf668b200ef3...         19329.74930  \n",
       "0xb6668fac94abdbcc19d63a73d5aa296166133c6f58739...        -45093.78499  \n",
       "0xc2360fba8a1217e33021380c8326a161cffc8c09317e4...           335.85734  \n",
       "0xc2360fba8a1217e33021380c8326a161cffc8c09317e4...         18827.80001  \n",
       "0x6d09c1f696fd4e82f1fe0e0350379459a9da1005603a8...         29450.96147  "
      ]
     },
     "execution_count": 3,
     "metadata": {},
     "output_type": "execute_result"
    }
   ],
   "source": [
    "df.head()"
   ]
  },
  {
   "cell_type": "code",
   "execution_count": 4,
   "metadata": {},
   "outputs": [
    {
     "data": {
      "image/png": "[encoded data removed]",
      "text/plain": [
       "<Figure size 720x432 with 1 Axes>"
      ]
     },
     "metadata": {
      "needs_background": "light"
     },
     "output_type": "display_data"
    }
   ],
   "source": [
    "# Plot PDF of normal distribution\n",
    "x = []\n",
    "bell_curve = []\n",
    "for i in np.arange(-4,4,0.01):\n",
    "    bell_curve.append(norm.pdf(i))\n",
    "    x.append(i)\n",
    "    \n",
    "plt.subplots(figsize=(10,6))\n",
    "sns.lineplot(x=x, y=bell_curve)\n",
    "plt.tight_layout()\n",
    "plt.savefig(fname='normal_dist_2', dpi=150)\n",
    "plt.show()"
   ]
  },
  {
   "cell_type": "code",
   "execution_count": 5,
   "metadata": {},
   "outputs": [
    {
     "name": "stdout",
     "output_type": "stream",
     "text": [
      "Mean 21258.918903911355\n",
      "STDEVS 35991.47722558263\n"
     ]
    }
   ],
   "source": [
    "# token metrics\n",
    "print('Mean',df['Quantity'].mean())\n",
    "print('STDEVS',df['Quantity'].std())"
   ]
  },
  {
   "cell_type": "code",
   "execution_count": 6,
   "metadata": {},
   "outputs": [
    {
     "data": {
      "text/plain": [
       "<matplotlib.axes._subplots.AxesSubplot at 0x1542c5a1080>"
      ]
     },
     "execution_count": 6,
     "metadata": {},
     "output_type": "execute_result"
    },
    {
     "data": {
      "image/png": "[encoded data removed]",
      "text/plain": [
       "<Figure size 432x288 with 1 Axes>"
      ]
     },
     "metadata": {
      "needs_background": "light"
     },
     "output_type": "display_data"
    }
   ],
   "source": [
    "df = df.groupby(['Txhash','From', 'To'])['Quantity'].sum().reset_index()\n",
    "\n",
    "df['Quantity'].plot(kind='hist')"
   ]
  },
  {
   "cell_type": "code",
   "execution_count": 7,
   "metadata": {},
   "outputs": [
    {
     "data": {
      "text/plain": [
       "count      2296.000000\n",
       "mean      21268.178015\n",
       "std       35996.645858\n",
       "min           0.000000\n",
       "25%        6272.274886\n",
       "50%       12770.798860\n",
       "75%       26471.832210\n",
       "max      914926.922200\n",
       "Name: Quantity, dtype: float64"
      ]
     },
     "execution_count": 7,
     "metadata": {},
     "output_type": "execute_result"
    }
   ],
   "source": [
    "df['Quantity'].describe()"
   ]
  },
  {
   "cell_type": "code",
   "execution_count": 8,
   "metadata": {},
   "outputs": [
    {
     "data": {
      "text/plain": [
       "0       (37422.037, 914926.922]\n",
       "1          (3949.398, 7121.576]\n",
       "2          (10000.0, 15722.198]\n",
       "3        (23291.463, 37422.037]\n",
       "4          (10000.0, 15722.198]\n",
       "5        (15722.198, 23291.463]\n",
       "6            (-0.001, 3949.398]\n",
       "7            (-0.001, 3949.398]\n",
       "8       (37422.037, 914926.922]\n",
       "9          (3949.398, 7121.576]\n",
       "10       (15722.198, 23291.463]\n",
       "11         (3949.398, 7121.576]\n",
       "12           (-0.001, 3949.398]\n",
       "13       (15722.198, 23291.463]\n",
       "14       (23291.463, 37422.037]\n",
       "15          (7121.576, 10000.0]\n",
       "16       (23291.463, 37422.037]\n",
       "17         (3949.398, 7121.576]\n",
       "18           (-0.001, 3949.398]\n",
       "19          (7121.576, 10000.0]\n",
       "20         (3949.398, 7121.576]\n",
       "21          (7121.576, 10000.0]\n",
       "22      (37422.037, 914926.922]\n",
       "23          (7121.576, 10000.0]\n",
       "24          (7121.576, 10000.0]\n",
       "25       (23291.463, 37422.037]\n",
       "26           (-0.001, 3949.398]\n",
       "27         (3949.398, 7121.576]\n",
       "28         (3949.398, 7121.576]\n",
       "29          (7121.576, 10000.0]\n",
       "                 ...           \n",
       "2266     (15722.198, 23291.463]\n",
       "2267       (10000.0, 15722.198]\n",
       "2268       (3949.398, 7121.576]\n",
       "2269    (37422.037, 914926.922]\n",
       "2270    (37422.037, 914926.922]\n",
       "2271       (3949.398, 7121.576]\n",
       "2272       (3949.398, 7121.576]\n",
       "2273     (23291.463, 37422.037]\n",
       "2274     (23291.463, 37422.037]\n",
       "2275        (7121.576, 10000.0]\n",
       "2276     (15722.198, 23291.463]\n",
       "2277    (37422.037, 914926.922]\n",
       "2278        (7121.576, 10000.0]\n",
       "2279       (3949.398, 7121.576]\n",
       "2280     (15722.198, 23291.463]\n",
       "2281        (7121.576, 10000.0]\n",
       "2282       (3949.398, 7121.576]\n",
       "2283     (15722.198, 23291.463]\n",
       "2284    (37422.037, 914926.922]\n",
       "2285    (37422.037, 914926.922]\n",
       "2286        (7121.576, 10000.0]\n",
       "2287        (7121.576, 10000.0]\n",
       "2288    (37422.037, 914926.922]\n",
       "2289        (7121.576, 10000.0]\n",
       "2290         (-0.001, 3949.398]\n",
       "2291     (15722.198, 23291.463]\n",
       "2292     (15722.198, 23291.463]\n",
       "2293       (3949.398, 7121.576]\n",
       "2294     (23291.463, 37422.037]\n",
       "2295        (7121.576, 10000.0]\n",
       "Name: Quantity, Length: 2296, dtype: category\n",
       "Categories (7, interval[float64]): [(-0.001, 3949.398] < (3949.398, 7121.576] < (7121.576, 10000.0] < (10000.0, 15722.198] < (15722.198, 23291.463] < (23291.463, 37422.037] < (37422.037, 914926.922]]"
      ]
     },
     "execution_count": 8,
     "metadata": {},
     "output_type": "execute_result"
    }
   ],
   "source": [
    "pd.qcut(df['Quantity'], q=7)"
   ]
  },
  {
   "cell_type": "code",
   "execution_count": 9,
   "metadata": {},
   "outputs": [
    {
     "data": {
      "text/html": [
       "<div>\n",
       "<style scoped>\n",
       "    .dataframe tbody tr th:only-of-type {\n",
       "        vertical-align: middle;\n",
       "    }\n",
       "\n",
       "    .dataframe tbody tr th {\n",
       "        vertical-align: top;\n",
       "    }\n",
       "\n",
       "    .dataframe thead th {\n",
       "        text-align: right;\n",
       "    }\n",
       "</style>\n",
       "<table border=\"1\" class=\"dataframe\">\n",
       "  <thead>\n",
       "    <tr style=\"text-align: right;\">\n",
       "      <th></th>\n",
       "      <th>Txhash</th>\n",
       "      <th>From</th>\n",
       "      <th>To</th>\n",
       "      <th>Quantity</th>\n",
       "      <th>quantile_ex_1</th>\n",
       "      <th>quantile_ex_2</th>\n",
       "    </tr>\n",
       "  </thead>\n",
       "  <tbody>\n",
       "    <tr>\n",
       "      <th>0</th>\n",
       "      <td>0x001684ea6bf3aed4ee7bfc27666d9176d3edeb1c2684...</td>\n",
       "      <td>0x59c1349bc6f28a427e78ddb6130ec669c2f39b48</td>\n",
       "      <td>0x000000005736775feb0c8568e7dee77222a26880</td>\n",
       "      <td>89468.86465</td>\n",
       "      <td>(37422.037, 914926.922]</td>\n",
       "      <td>(42140.0, 914927.0]</td>\n",
       "    </tr>\n",
       "    <tr>\n",
       "      <th>1</th>\n",
       "      <td>0x0028329f6ae008805bab802abb5adf292e0cc8674be3...</td>\n",
       "      <td>0x59c1349bc6f28a427e78ddb6130ec669c2f39b48</td>\n",
       "      <td>0x62ed54b8bfb15d1131275473095044cdfaf80355</td>\n",
       "      <td>6969.00000</td>\n",
       "      <td>(3949.398, 7121.576]</td>\n",
       "      <td>(5044.0, 7512.0]</td>\n",
       "    </tr>\n",
       "    <tr>\n",
       "      <th>2</th>\n",
       "      <td>0x0041719fd3491195971a80ffd6e308c1cec7b75a3c52...</td>\n",
       "      <td>0x358c84faa7f860ab41b93edccb7e64f7eb330bb1</td>\n",
       "      <td>0x59c1349bc6f28a427e78ddb6130ec669c2f39b48</td>\n",
       "      <td>12000.00000</td>\n",
       "      <td>(10000.0, 15722.198]</td>\n",
       "      <td>(10000.0, 12771.0]</td>\n",
       "    </tr>\n",
       "    <tr>\n",
       "      <th>3</th>\n",
       "      <td>0x0041fe3752c0ce03b4ca998b8f5b37548013838ac828...</td>\n",
       "      <td>0x59c1349bc6f28a427e78ddb6130ec669c2f39b48</td>\n",
       "      <td>0x78cce34b82f8cef05eb658ddcf10f9a154298ed4</td>\n",
       "      <td>33217.93869</td>\n",
       "      <td>(23291.463, 37422.037]</td>\n",
       "      <td>(31343.0, 42140.0]</td>\n",
       "    </tr>\n",
       "    <tr>\n",
       "      <th>4</th>\n",
       "      <td>0x0055cea5f0be9fc35f50abac2cacd770bb3d97f63831...</td>\n",
       "      <td>0x4124dd173b3c9e7b7389bba75708ef0b72babf85</td>\n",
       "      <td>0x59c1349bc6f28a427e78ddb6130ec669c2f39b48</td>\n",
       "      <td>12422.00000</td>\n",
       "      <td>(10000.0, 15722.198]</td>\n",
       "      <td>(10000.0, 12771.0]</td>\n",
       "    </tr>\n",
       "  </tbody>\n",
       "</table>\n",
       "</div>"
      ],
      "text/plain": [
       "                                              Txhash  \\\n",
       "0  0x001684ea6bf3aed4ee7bfc27666d9176d3edeb1c2684...   \n",
       "1  0x0028329f6ae008805bab802abb5adf292e0cc8674be3...   \n",
       "2  0x0041719fd3491195971a80ffd6e308c1cec7b75a3c52...   \n",
       "3  0x0041fe3752c0ce03b4ca998b8f5b37548013838ac828...   \n",
       "4  0x0055cea5f0be9fc35f50abac2cacd770bb3d97f63831...   \n",
       "\n",
       "                                         From  \\\n",
       "0  0x59c1349bc6f28a427e78ddb6130ec669c2f39b48   \n",
       "1  0x59c1349bc6f28a427e78ddb6130ec669c2f39b48   \n",
       "2  0x358c84faa7f860ab41b93edccb7e64f7eb330bb1   \n",
       "3  0x59c1349bc6f28a427e78ddb6130ec669c2f39b48   \n",
       "4  0x4124dd173b3c9e7b7389bba75708ef0b72babf85   \n",
       "\n",
       "                                           To     Quantity  \\\n",
       "0  0x000000005736775feb0c8568e7dee77222a26880  89468.86465   \n",
       "1  0x62ed54b8bfb15d1131275473095044cdfaf80355   6969.00000   \n",
       "2  0x59c1349bc6f28a427e78ddb6130ec669c2f39b48  12000.00000   \n",
       "3  0x78cce34b82f8cef05eb658ddcf10f9a154298ed4  33217.93869   \n",
       "4  0x59c1349bc6f28a427e78ddb6130ec669c2f39b48  12422.00000   \n",
       "\n",
       "             quantile_ex_1        quantile_ex_2  \n",
       "0  (37422.037, 914926.922]  (42140.0, 914927.0]  \n",
       "1     (3949.398, 7121.576]     (5044.0, 7512.0]  \n",
       "2     (10000.0, 15722.198]   (10000.0, 12771.0]  \n",
       "3   (23291.463, 37422.037]   (31343.0, 42140.0]  \n",
       "4     (10000.0, 15722.198]   (10000.0, 12771.0]  "
      ]
     },
     "execution_count": 9,
     "metadata": {},
     "output_type": "execute_result"
    }
   ],
   "source": [
    "df['quantile_ex_1'] = pd.qcut(df['Quantity'], q=7)\n",
    "df['quantile_ex_2'] = pd.qcut(df['Quantity'], q=10, precision=0)\n",
    "\n",
    "df.head()"
   ]
  },
  {
   "cell_type": "code",
   "execution_count": 10,
   "metadata": {},
   "outputs": [
    {
     "data": {
      "text/plain": [
       "(23291.463, 37422.037]     365\n",
       "(7121.576, 10000.0]        358\n",
       "(-0.001, 3949.398]         338\n",
       "(15722.198, 23291.463]     328\n",
       "(3949.398, 7121.576]       319\n",
       "(10000.0, 15722.198]       297\n",
       "(37422.037, 914926.922]    291\n",
       "Name: quantile_ex_1, dtype: int64"
      ]
     },
     "execution_count": 10,
     "metadata": {},
     "output_type": "execute_result"
    }
   ],
   "source": [
    "df['quantile_ex_1'].value_counts()"
   ]
  },
  {
   "cell_type": "code",
   "execution_count": 11,
   "metadata": {},
   "outputs": [
    {
     "data": {
      "text/plain": [
       "(7512.0, 10000.0]      326\n",
       "(12771.0, 17422.0]     232\n",
       "(42140.0, 914927.0]    230\n",
       "(2915.0, 5044.0]       230\n",
       "(-1.0, 2915.0]         230\n",
       "(31343.0, 42140.0]     229\n",
       "(22392.0, 31343.0]     229\n",
       "(5044.0, 7512.0]       229\n",
       "(17422.0, 22392.0]     228\n",
       "(10000.0, 12771.0]     133\n",
       "Name: quantile_ex_2, dtype: int64"
      ]
     },
     "execution_count": 11,
     "metadata": {},
     "output_type": "execute_result"
    }
   ],
   "source": [
    "df['quantile_ex_2'].value_counts()"
   ]
  },
  {
   "cell_type": "code",
   "execution_count": 12,
   "metadata": {},
   "outputs": [
    {
     "data": {
      "text/html": [
       "<div>\n",
       "<style scoped>\n",
       "    .dataframe tbody tr th:only-of-type {\n",
       "        vertical-align: middle;\n",
       "    }\n",
       "\n",
       "    .dataframe tbody tr th {\n",
       "        vertical-align: top;\n",
       "    }\n",
       "\n",
       "    .dataframe thead th {\n",
       "        text-align: right;\n",
       "    }\n",
       "</style>\n",
       "<table border=\"1\" class=\"dataframe\">\n",
       "  <thead>\n",
       "    <tr style=\"text-align: right;\">\n",
       "      <th></th>\n",
       "      <th>Txhash</th>\n",
       "      <th>From</th>\n",
       "      <th>To</th>\n",
       "      <th>Quantity</th>\n",
       "      <th>quantile_ex_1</th>\n",
       "      <th>quantile_ex_2</th>\n",
       "      <th>quantile_ex_3</th>\n",
       "    </tr>\n",
       "  </thead>\n",
       "  <tbody>\n",
       "    <tr>\n",
       "      <th>0</th>\n",
       "      <td>0x001684ea6bf3aed4ee7bfc27666d9176d3edeb1c2684...</td>\n",
       "      <td>0x59c1349bc6f28a427e78ddb6130ec669c2f39b48</td>\n",
       "      <td>0x000000005736775feb0c8568e7dee77222a26880</td>\n",
       "      <td>89468.86465</td>\n",
       "      <td>(37422.037, 914926.922]</td>\n",
       "      <td>(42140.0, 914927.0]</td>\n",
       "      <td>BANK HODL_5</td>\n",
       "    </tr>\n",
       "    <tr>\n",
       "      <th>1</th>\n",
       "      <td>0x0028329f6ae008805bab802abb5adf292e0cc8674be3...</td>\n",
       "      <td>0x59c1349bc6f28a427e78ddb6130ec669c2f39b48</td>\n",
       "      <td>0x62ed54b8bfb15d1131275473095044cdfaf80355</td>\n",
       "      <td>6969.00000</td>\n",
       "      <td>(3949.398, 7121.576]</td>\n",
       "      <td>(5044.0, 7512.0]</td>\n",
       "      <td>BANK HODL_2</td>\n",
       "    </tr>\n",
       "    <tr>\n",
       "      <th>2</th>\n",
       "      <td>0x0041719fd3491195971a80ffd6e308c1cec7b75a3c52...</td>\n",
       "      <td>0x358c84faa7f860ab41b93edccb7e64f7eb330bb1</td>\n",
       "      <td>0x59c1349bc6f28a427e78ddb6130ec669c2f39b48</td>\n",
       "      <td>12000.00000</td>\n",
       "      <td>(10000.0, 15722.198]</td>\n",
       "      <td>(10000.0, 12771.0]</td>\n",
       "      <td>BANK HODL_3</td>\n",
       "    </tr>\n",
       "    <tr>\n",
       "      <th>3</th>\n",
       "      <td>0x0041fe3752c0ce03b4ca998b8f5b37548013838ac828...</td>\n",
       "      <td>0x59c1349bc6f28a427e78ddb6130ec669c2f39b48</td>\n",
       "      <td>0x78cce34b82f8cef05eb658ddcf10f9a154298ed4</td>\n",
       "      <td>33217.93869</td>\n",
       "      <td>(23291.463, 37422.037]</td>\n",
       "      <td>(31343.0, 42140.0]</td>\n",
       "      <td>BANK HODL_5</td>\n",
       "    </tr>\n",
       "    <tr>\n",
       "      <th>4</th>\n",
       "      <td>0x0055cea5f0be9fc35f50abac2cacd770bb3d97f63831...</td>\n",
       "      <td>0x4124dd173b3c9e7b7389bba75708ef0b72babf85</td>\n",
       "      <td>0x59c1349bc6f28a427e78ddb6130ec669c2f39b48</td>\n",
       "      <td>12422.00000</td>\n",
       "      <td>(10000.0, 15722.198]</td>\n",
       "      <td>(10000.0, 12771.0]</td>\n",
       "      <td>BANK HODL_3</td>\n",
       "    </tr>\n",
       "  </tbody>\n",
       "</table>\n",
       "</div>"
      ],
      "text/plain": [
       "                                              Txhash  \\\n",
       "0  0x001684ea6bf3aed4ee7bfc27666d9176d3edeb1c2684...   \n",
       "1  0x0028329f6ae008805bab802abb5adf292e0cc8674be3...   \n",
       "2  0x0041719fd3491195971a80ffd6e308c1cec7b75a3c52...   \n",
       "3  0x0041fe3752c0ce03b4ca998b8f5b37548013838ac828...   \n",
       "4  0x0055cea5f0be9fc35f50abac2cacd770bb3d97f63831...   \n",
       "\n",
       "                                         From  \\\n",
       "0  0x59c1349bc6f28a427e78ddb6130ec669c2f39b48   \n",
       "1  0x59c1349bc6f28a427e78ddb6130ec669c2f39b48   \n",
       "2  0x358c84faa7f860ab41b93edccb7e64f7eb330bb1   \n",
       "3  0x59c1349bc6f28a427e78ddb6130ec669c2f39b48   \n",
       "4  0x4124dd173b3c9e7b7389bba75708ef0b72babf85   \n",
       "\n",
       "                                           To     Quantity  \\\n",
       "0  0x000000005736775feb0c8568e7dee77222a26880  89468.86465   \n",
       "1  0x62ed54b8bfb15d1131275473095044cdfaf80355   6969.00000   \n",
       "2  0x59c1349bc6f28a427e78ddb6130ec669c2f39b48  12000.00000   \n",
       "3  0x78cce34b82f8cef05eb658ddcf10f9a154298ed4  33217.93869   \n",
       "4  0x59c1349bc6f28a427e78ddb6130ec669c2f39b48  12422.00000   \n",
       "\n",
       "             quantile_ex_1        quantile_ex_2 quantile_ex_3  \n",
       "0  (37422.037, 914926.922]  (42140.0, 914927.0]   BANK HODL_5  \n",
       "1     (3949.398, 7121.576]     (5044.0, 7512.0]   BANK HODL_2  \n",
       "2     (10000.0, 15722.198]   (10000.0, 12771.0]   BANK HODL_3  \n",
       "3   (23291.463, 37422.037]   (31343.0, 42140.0]   BANK HODL_5  \n",
       "4     (10000.0, 15722.198]   (10000.0, 12771.0]   BANK HODL_3  "
      ]
     },
     "execution_count": 12,
     "metadata": {},
     "output_type": "execute_result"
    }
   ],
   "source": [
    "bin_labels_5 = ['BANK HODL_1', 'BANK HODL_2', 'BANK HODL_3', 'BANK HODL_4', 'BANK HODL_5']\n",
    "df['quantile_ex_3'] = pd.qcut(df['Quantity'],\n",
    "                              q=[0, .2, .4, .6, .8, 1],\n",
    "                              labels=bin_labels_5)\n",
    "df.head()"
   ]
  },
  {
   "cell_type": "code",
   "execution_count": 17,
   "metadata": {},
   "outputs": [
    {
     "data": {
      "text/plain": [
       "BANK HODL_2    555\n",
       "BANK HODL_1    460\n",
       "BANK HODL_5    459\n",
       "BANK HODL_4    457\n",
       "BANK HODL_3    365\n",
       "Name: quantile_ex_3, dtype: int64"
      ]
     },
     "execution_count": 17,
     "metadata": {},
     "output_type": "execute_result"
    }
   ],
   "source": [
    "df['quantile_ex_3'].value_counts()"
   ]
  }
 ],
 "metadata": {
  "kernelspec": {
   "display_name": "Python 3",
   "language": "python",
   "name": "python3"
  },
  "language_info": {
   "codemirror_mode": {
    "name": "ipython",
    "version": 3
   },
   "file_extension": ".py",
   "mimetype": "text/x-python",
   "name": "python",
   "nbconvert_exporter": "python",
   "pygments_lexer": "ipython3",
   "version": "3.7.3"
  }
 },
 "nbformat": 4,
 "nbformat_minor": 2
}
